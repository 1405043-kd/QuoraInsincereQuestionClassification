{
  "nbformat": 4,
  "nbformat_minor": 0,
  "metadata": {
    "colab": {
      "name": "quoraProject.ipynb",
      "version": "0.3.2",
      "provenance": [],
      "collapsed_sections": [],
      "include_colab_link": true
    },
    "kernelspec": {
      "name": "python3",
      "display_name": "Python 3"
    },
    "accelerator": "GPU"
  },
  "cells": [
    {
      "cell_type": "markdown",
      "metadata": {
        "id": "view-in-github",
        "colab_type": "text"
      },
      "source": [
        "<a href=\"https://colab.research.google.com/github/1405043-kd/QuoraInsincereQuestionClassification/blob/master/quoraProject.ipynb\" target=\"_parent\"><img src=\"https://colab.research.google.com/assets/colab-badge.svg\" alt=\"Open In Colab\"/></a>"
      ]
    },
    {
      "metadata": {
        "id": "uC5-InTY0GNi",
        "colab_type": "code",
        "colab": {}
      },
      "cell_type": "code",
      "source": [
        "from google.colab import drive\n",
        "drive.mount('/content/gdrive')\n",
        "#Run this cell,login to your drive and mount your drive at /content/gdrive"
      ],
      "execution_count": 0,
      "outputs": []
    },
    {
      "metadata": {
        "id": "uy7ahA2H0y0n",
        "colab_type": "code",
        "outputId": "10594961-69e2-466b-aba6-4b8b1c154a08",
        "colab": {
          "base_uri": "https://localhost:8080/",
          "height": 293
        }
      },
      "cell_type": "code",
      "source": [
        "!wget http://nlp.stanford.edu/data/glove.840B.300d.zip\n",
        "#download the embedding file"
      ],
      "execution_count": 0,
      "outputs": [
        {
          "output_type": "stream",
          "text": [
            "--2019-02-05 11:09:42--  http://nlp.stanford.edu/data/glove.840B.300d.zip\n",
            "Resolving nlp.stanford.edu (nlp.stanford.edu)... 171.64.67.140\n",
            "Connecting to nlp.stanford.edu (nlp.stanford.edu)|171.64.67.140|:80... connected.\n",
            "HTTP request sent, awaiting response... 302 Found\n",
            "Location: https://nlp.stanford.edu/data/glove.840B.300d.zip [following]\n",
            "--2019-02-05 11:09:42--  https://nlp.stanford.edu/data/glove.840B.300d.zip\n",
            "Connecting to nlp.stanford.edu (nlp.stanford.edu)|171.64.67.140|:443... connected.\n",
            "HTTP request sent, awaiting response... 200 OK\n",
            "Length: 2176768927 (2.0G) [application/zip]\n",
            "Saving to: ‘glove.840B.300d.zip’\n",
            "\n",
            "glove.840B.300d.zip 100%[===================>]   2.03G  11.4MB/s    in 96s     \n",
            "\n",
            "2019-02-05 11:11:19 (21.6 MB/s) - ‘glove.840B.300d.zip’ saved [2176768927/2176768927]\n",
            "\n"
          ],
          "name": "stdout"
        }
      ]
    },
    {
      "metadata": {
        "id": "3wrDn1ydA8-6",
        "colab_type": "code",
        "colab": {}
      },
      "cell_type": "code",
      "source": [
        "import zipfile\n",
        "zipRef=zipfile.ZipFile('glove.840B.300d.zip','r')\n",
        "zipRef.extractall()\n",
        "zipRef.close()\n",
        "#unzip embedding file"
      ],
      "execution_count": 0,
      "outputs": []
    },
    {
      "metadata": {
        "id": "eyo4w0E_BAyS",
        "colab_type": "code",
        "colab": {}
      },
      "cell_type": "code",
      "source": [
        "import pandas as pd\n",
        "trainDf=pd.read_csv(\"/content/gdrive/My Drive/colabData/MlProject/train.csv\")\n",
        "#Here the file location should be according to your drive"
      ],
      "execution_count": 0,
      "outputs": []
    },
    {
      "metadata": {
        "id": "ToMTqRi4BP0u",
        "colab_type": "code",
        "colab": {}
      },
      "cell_type": "code",
      "source": [
        "import numpy as np \n",
        "from tqdm import tqdm\n",
        "import math\n",
        "from sklearn.model_selection import train_test_split"
      ],
      "execution_count": 0,
      "outputs": []
    },
    {
      "metadata": {
        "id": "oWH53R7uBkb5",
        "colab_type": "code",
        "outputId": "e3342ecb-e5e7-4099-b33c-f913450517ee",
        "colab": {
          "base_uri": "https://localhost:8080/",
          "height": 54
        }
      },
      "cell_type": "code",
      "source": [
        "def readEmbeddings(embeddingsFile):\n",
        "    \n",
        "    tempDict={}\n",
        "    f=open(embeddingsFile)\n",
        "    for line in tqdm(f):\n",
        "        values=line.split(\" \")\n",
        "        word=values[0]\n",
        "        vect=np.asarray(values[1:],dtype='float32')\n",
        "        tempDict[word]=vect\n",
        "    f.close()\n",
        "   \n",
        "    return tempDict\n",
        "embeddingsDict=readEmbeddings('glove.840B.300d.txt')\n",
        "\n",
        "vectDim=300\n",
        "numOfVect=30\n",
        "len(embeddingsDict['the'])"
      ],
      "execution_count": 0,
      "outputs": [
        {
          "output_type": "stream",
          "text": [
            "2196017it [02:46, 13226.65it/s]\n"
          ],
          "name": "stderr"
        },
        {
          "output_type": "execute_result",
          "data": {
            "text/plain": [
              "300"
            ]
          },
          "metadata": {
            "tags": []
          },
          "execution_count": 3
        }
      ]
    },
    {
      "metadata": {
        "id": "e_cCFCIdCYHo",
        "colab_type": "code",
        "outputId": "c04ce109-cb5b-49b8-a577-08c94aa40c8f",
        "colab": {
          "base_uri": "https://localhost:8080/",
          "height": 35
        }
      },
      "cell_type": "code",
      "source": [
        "def textToArr(txt):\n",
        "    zeroVect=np.zeros(vectDim)\n",
        "    txt=txt[:-1].split()[:numOfVect]\n",
        "    embeds=[embeddingsDict.get(x,zeroVect) for x in txt]\n",
        "    embeds+=[zeroVect]*(numOfVect-len(embeds)) \n",
        "    return np.array(embeds)\n",
        "\n",
        "textToArr(\"what is quora?\").shape"
      ],
      "execution_count": 0,
      "outputs": [
        {
          "output_type": "execute_result",
          "data": {
            "text/plain": [
              "(30, 300)"
            ]
          },
          "metadata": {
            "tags": []
          },
          "execution_count": 4
        }
      ]
    },
    {
      "metadata": {
        "id": "p7wFIETnCcHc",
        "colab_type": "code",
        "outputId": "c054552a-847d-4ad9-b260-eea012565e5a",
        "colab": {
          "base_uri": "https://localhost:8080/",
          "height": 72
        }
      },
      "cell_type": "code",
      "source": [
        "trainDf, valDf = train_test_split(trainDf, test_size=0.4, random_state=42)\n",
        "valDf, testDf = train_test_split(valDf, test_size=0.5, random_state=42)\n",
        "print(trainDf.shape)\n",
        "print(testDf.shape)\n",
        "print(valDf.shape) "
      ],
      "execution_count": 0,
      "outputs": [
        {
          "output_type": "stream",
          "text": [
            "(783673, 3)\n",
            "(261225, 3)\n",
            "(261224, 3)\n"
          ],
          "name": "stdout"
        }
      ]
    },
    {
      "metadata": {
        "id": "Oq8TTHDEHFZh",
        "colab_type": "code",
        "colab": {}
      },
      "cell_type": "code",
      "source": [
        "batchSize = 128\n",
        "\n",
        "def batchGenerate(train_df):\n",
        "    numBatches = math.ceil(len(train_df) / batchSize)\n",
        "    while True: \n",
        "        train_df = train_df.sample(frac=1.)   \n",
        "        for i in range(numBatches):\n",
        "            texts = train_df.iloc[i*batchSize:(i+1)*batchSize, 1]\n",
        "            textArr = np.array([textToArr(text) for text in texts])\n",
        "            yield textArr, np.array(train_df[\"target\"][i*batchSize:(i+1)*batchSize])"
      ],
      "execution_count": 0,
      "outputs": []
    },
    {
      "metadata": {
        "id": "xedJCQORHJDH",
        "colab_type": "code",
        "outputId": "b23d8825-25ba-48c3-bede-76141774ece8",
        "colab": {
          "base_uri": "https://localhost:8080/",
          "height": 35
        }
      },
      "cell_type": "code",
      "source": [
        "from keras.models import Sequential\n",
        "from keras.layers import CuDNNLSTM, Dense, Bidirectional, Dropout\n",
        "#from keras.utils.vis_utils import plot_model"
      ],
      "execution_count": 0,
      "outputs": [
        {
          "output_type": "stream",
          "text": [
            "Using TensorFlow backend.\n"
          ],
          "name": "stderr"
        }
      ]
    },
    {
      "metadata": {
        "id": "D9J8tcQhHLhT",
        "colab_type": "code",
        "colab": {}
      },
      "cell_type": "code",
      "source": [
        "from keras import backend as K\n",
        "\n",
        "def recall(y_true, y_pred): \n",
        "    true_positives = K.sum(K.round(K.clip(y_true * y_pred, 0, 1)))\n",
        "    possible_positives = K.sum(K.round(K.clip(y_true, 0, 1)))\n",
        "    recall = true_positives / (possible_positives + K.epsilon())\n",
        "    return recall\n",
        "      \n",
        "def precision(y_true, y_pred): \n",
        "    true_positives = K.sum(K.round(K.clip(y_true * y_pred, 0, 1)))\n",
        "    predicted_positives = K.sum(K.round(K.clip(y_pred, 0, 1)))\n",
        "    precision = true_positives / (predicted_positives + K.epsilon())\n",
        "    return precision\n",
        "\n",
        "def f1(y_true, y_pred):\n",
        "    prec = precision(y_true, y_pred)\n",
        "    rec = recall(y_true, y_pred)\n",
        "    return 2*((prec*rec)/(prec+rec+K.epsilon()))\n",
        "\n",
        "    \n",
        "    "
      ],
      "execution_count": 0,
      "outputs": []
    },
    {
      "metadata": {
        "id": "b7GgMUm9HOvX",
        "colab_type": "code",
        "colab": {}
      },
      "cell_type": "code",
      "source": [
        "model = Sequential()\n",
        "model.add(Bidirectional(CuDNNLSTM(64, return_sequences=True), input_shape=(30, 300)))\n",
        "model.add(Bidirectional(CuDNNLSTM(64))) \n",
        "model.add(Dense(1, activation=\"sigmoid\"))\n",
        "\n",
        "model.compile(loss='binary_crossentropy', optimizer='adam', metrics=['accuracy',recall,precision,f1])\n",
        "\n",
        "#plot_model(model,to_file='modelplot.png',show_shapes=True,show_layer_names=True)\n"
      ],
      "execution_count": 0,
      "outputs": []
    },
    {
      "metadata": {
        "id": "EZWnBWYhLuPl",
        "colab_type": "code",
        "outputId": "5ede2c95-613d-476a-96b3-1139805a7bc1",
        "colab": {
          "base_uri": "https://localhost:8080/",
          "height": 256
        }
      },
      "cell_type": "code",
      "source": [
        "model.summary()"
      ],
      "execution_count": 0,
      "outputs": [
        {
          "output_type": "stream",
          "text": [
            "_________________________________________________________________\n",
            "Layer (type)                 Output Shape              Param #   \n",
            "=================================================================\n",
            "bidirectional_7 (Bidirection (None, 30, 128)           187392    \n",
            "_________________________________________________________________\n",
            "bidirectional_8 (Bidirection (None, 128)               99328     \n",
            "_________________________________________________________________\n",
            "dense_4 (Dense)              (None, 1)                 129       \n",
            "=================================================================\n",
            "Total params: 286,849\n",
            "Trainable params: 286,849\n",
            "Non-trainable params: 0\n",
            "_________________________________________________________________\n"
          ],
          "name": "stdout"
        }
      ]
    },
    {
      "metadata": {
        "id": "3ZIwE1dLHWgD",
        "colab_type": "code",
        "outputId": "3f3a6145-45d1-45b1-8f30-ed86e53a49e1",
        "colab": {
          "base_uri": "https://localhost:8080/",
          "height": 790
        }
      },
      "cell_type": "code",
      "source": [
        "trainGen = batchGenerate(trainDf)\n",
        "valGen=batchGenerate(valDf)\n",
        "model.fit_generator(trainGen, epochs=20, steps_per_epoch=1000, validation_data=valGen, validation_steps=500, verbose=True) "
      ],
      "execution_count": 0,
      "outputs": [
        {
          "output_type": "stream",
          "text": [
            "Epoch 1/20\n",
            "1000/1000 [==============================] - 60s 60ms/step - loss: 0.1193 - acc: 0.9530 - recall: 0.4659 - precision: 0.6727 - f1: 0.5277 - val_loss: 0.1149 - val_acc: 0.9549 - val_recall: 0.5396 - val_precision: 0.6481 - val_f1: 0.5720\n",
            "Epoch 2/20\n",
            "1000/1000 [==============================] - 60s 60ms/step - loss: 0.1126 - acc: 0.9557 - recall: 0.5144 - precision: 0.6917 - f1: 0.5676 - val_loss: 0.1100 - val_acc: 0.9561 - val_recall: 0.5465 - val_precision: 0.6717 - val_f1: 0.5817\n",
            "Epoch 3/20\n",
            "1000/1000 [==============================] - 60s 60ms/step - loss: 0.1134 - acc: 0.9550 - recall: 0.5243 - precision: 0.6884 - f1: 0.5726 - val_loss: 0.1085 - val_acc: 0.9573 - val_recall: 0.5462 - val_precision: 0.6948 - val_f1: 0.5889\n",
            "Epoch 4/20\n",
            "1000/1000 [==============================] - 60s 60ms/step - loss: 0.1100 - acc: 0.9561 - recall: 0.5260 - precision: 0.6909 - f1: 0.5770 - val_loss: 0.1077 - val_acc: 0.9581 - val_recall: 0.5877 - val_precision: 0.6876 - val_f1: 0.6163\n",
            "Epoch 5/20\n",
            "1000/1000 [==============================] - 60s 60ms/step - loss: 0.1118 - acc: 0.9557 - recall: 0.5275 - precision: 0.6920 - f1: 0.5784 - val_loss: 0.1060 - val_acc: 0.9586 - val_recall: 0.5689 - val_precision: 0.6875 - val_f1: 0.6019\n",
            "Epoch 6/20\n",
            "1000/1000 [==============================] - 60s 60ms/step - loss: 0.1069 - acc: 0.9574 - recall: 0.5619 - precision: 0.7054 - f1: 0.6041 - val_loss: 0.1052 - val_acc: 0.9588 - val_recall: 0.5265 - val_precision: 0.7158 - val_f1: 0.5863\n",
            "Epoch 7/20\n",
            "1000/1000 [==============================] - 60s 60ms/step - loss: 0.1024 - acc: 0.9592 - recall: 0.5721 - precision: 0.7113 - f1: 0.6151 - val_loss: 0.1061 - val_acc: 0.9580 - val_recall: 0.5447 - val_precision: 0.7023 - val_f1: 0.5959\n",
            "Epoch 8/20\n",
            "1000/1000 [==============================] - 59s 59ms/step - loss: 0.1022 - acc: 0.9595 - recall: 0.5740 - precision: 0.7174 - f1: 0.6172 - val_loss: 0.1050 - val_acc: 0.9576 - val_recall: 0.5907 - val_precision: 0.6759 - val_f1: 0.6093\n",
            "Epoch 9/20\n",
            "1000/1000 [==============================] - 59s 59ms/step - loss: 0.1032 - acc: 0.9586 - recall: 0.5828 - precision: 0.7134 - f1: 0.6210 - val_loss: 0.1059 - val_acc: 0.9591 - val_recall: 0.5407 - val_precision: 0.7016 - val_f1: 0.5919\n",
            "Epoch 10/20\n",
            "1000/1000 [==============================] - 60s 60ms/step - loss: 0.1027 - acc: 0.9592 - recall: 0.5964 - precision: 0.7126 - f1: 0.6300 - val_loss: 0.1022 - val_acc: 0.9590 - val_recall: 0.5852 - val_precision: 0.6783 - val_f1: 0.6119\n",
            "Epoch 11/20\n",
            "1000/1000 [==============================] - 60s 60ms/step - loss: 0.1009 - acc: 0.9596 - recall: 0.5913 - precision: 0.7143 - f1: 0.6266 - val_loss: 0.1029 - val_acc: 0.9581 - val_recall: 0.5708 - val_precision: 0.6996 - val_f1: 0.6081\n",
            "Epoch 12/20\n",
            "1000/1000 [==============================] - 60s 60ms/step - loss: 0.1008 - acc: 0.9602 - recall: 0.5938 - precision: 0.7234 - f1: 0.6318 - val_loss: 0.1065 - val_acc: 0.9586 - val_recall: 0.5190 - val_precision: 0.7291 - val_f1: 0.5863\n",
            "Epoch 13/20\n",
            "1000/1000 [==============================] - 60s 60ms/step - loss: 0.0958 - acc: 0.9615 - recall: 0.6152 - precision: 0.7224 - f1: 0.6451 - val_loss: 0.1039 - val_acc: 0.9594 - val_recall: 0.5930 - val_precision: 0.7078 - val_f1: 0.6274\n",
            "Epoch 14/20\n",
            "1000/1000 [==============================] - 60s 60ms/step - loss: 0.0941 - acc: 0.9624 - recall: 0.6288 - precision: 0.7293 - f1: 0.6561 - val_loss: 0.1068 - val_acc: 0.9583 - val_recall: 0.5745 - val_precision: 0.6947 - val_f1: 0.6115\n",
            "Epoch 15/20\n",
            "1000/1000 [==============================] - 60s 60ms/step - loss: 0.0949 - acc: 0.9622 - recall: 0.6323 - precision: 0.7284 - f1: 0.6580 - val_loss: 0.1012 - val_acc: 0.9588 - val_recall: 0.6049 - val_precision: 0.6653 - val_f1: 0.6156\n",
            "Epoch 16/20\n",
            "1000/1000 [==============================] - 60s 60ms/step - loss: 0.0958 - acc: 0.9617 - recall: 0.6158 - precision: 0.7283 - f1: 0.6494 - val_loss: 0.1043 - val_acc: 0.9591 - val_recall: 0.5896 - val_precision: 0.7010 - val_f1: 0.6218\n",
            "Epoch 17/20\n",
            "1000/1000 [==============================] - 60s 60ms/step - loss: 0.0955 - acc: 0.9614 - recall: 0.6181 - precision: 0.7230 - f1: 0.6485 - val_loss: 0.1049 - val_acc: 0.9585 - val_recall: 0.5910 - val_precision: 0.6840 - val_f1: 0.6165\n",
            "Epoch 18/20\n",
            "1000/1000 [==============================] - 60s 60ms/step - loss: 0.0941 - acc: 0.9624 - recall: 0.6334 - precision: 0.7387 - f1: 0.6642 - val_loss: 0.1000 - val_acc: 0.9595 - val_recall: 0.6508 - val_precision: 0.6775 - val_f1: 0.6476\n",
            "Epoch 19/20\n",
            "1000/1000 [==============================] - 60s 60ms/step - loss: 0.0874 - acc: 0.9650 - recall: 0.6614 - precision: 0.7467 - f1: 0.6839 - val_loss: 0.1058 - val_acc: 0.9587 - val_recall: 0.6250 - val_precision: 0.6847 - val_f1: 0.6363\n",
            "Epoch 20/20\n",
            "1000/1000 [==============================] - 60s 60ms/step - loss: 0.0867 - acc: 0.9649 - recall: 0.6607 - precision: 0.7457 - f1: 0.6839 - val_loss: 0.1040 - val_acc: 0.9594 - val_recall: 0.5957 - val_precision: 0.6755 - val_f1: 0.6132\n"
          ],
          "name": "stdout"
        },
        {
          "output_type": "execute_result",
          "data": {
            "text/plain": [
              "<keras.callbacks.History at 0x7faf50047390>"
            ]
          },
          "metadata": {
            "tags": []
          },
          "execution_count": 19
        }
      ]
    },
    {
      "metadata": {
        "id": "gkRHaqbILw2m",
        "colab_type": "code",
        "outputId": "5d78fa03-8b57-47aa-d5b9-126200c3458d",
        "colab": {
          "base_uri": "https://localhost:8080/",
          "height": 35
        }
      },
      "cell_type": "code",
      "source": [
        "testGen=batchGenerate(testDf)\n",
        "score = model.evaluate_generator(testGen, steps=2000, verbose=1)"
      ],
      "execution_count": 0,
      "outputs": [
        {
          "output_type": "stream",
          "text": [
            "2000/2000 [==============================] - 36s 18ms/step\n"
          ],
          "name": "stdout"
        }
      ]
    },
    {
      "metadata": {
        "id": "Bh4VRBuQL91-",
        "colab_type": "code",
        "outputId": "180ac8f2-01a1-4503-beca-d4e7ebea3373",
        "colab": {
          "base_uri": "https://localhost:8080/",
          "height": 109
        }
      },
      "cell_type": "code",
      "source": [
        "print(model.metrics_names[0],\":\",score[0])\n",
        "print(model.metrics_names[1],\":\",score[1])\n",
        "print(model.metrics_names[2],\":\",score[2])\n",
        "print(model.metrics_names[3],\":\",score[3])\n",
        "print(model.metrics_names[4],\":\",score[4])"
      ],
      "execution_count": 0,
      "outputs": [
        {
          "output_type": "stream",
          "text": [
            "loss : 0.10592202870175242\n",
            "acc : 0.958515625\n",
            "recall : 0.5944789966642856\n",
            "precision : 0.6958412290960551\n",
            "f1 : 0.6232734977453948\n"
          ],
          "name": "stdout"
        }
      ]
    }
  ]
}