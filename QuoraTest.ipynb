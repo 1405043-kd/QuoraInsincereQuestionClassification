{
  "nbformat": 4,
  "nbformat_minor": 0,
  "metadata": {
    "colab": {
      "name": "QuoraTest.ipynb",
      "version": "0.3.2",
      "provenance": [],
      "collapsed_sections": [],
      "include_colab_link": true
    },
    "kernelspec": {
      "name": "python3",
      "display_name": "Python 3"
    },
    "accelerator": "GPU"
  },
  "cells": [
    {
      "cell_type": "markdown",
      "metadata": {
        "id": "view-in-github",
        "colab_type": "text"
      },
      "source": [
        "<a href=\"https://colab.research.google.com/github/1405043-kd/QuoraInsincereQuestionClassification/blob/master/QuoraTest.ipynb\" target=\"_parent\"><img src=\"https://colab.research.google.com/assets/colab-badge.svg\" alt=\"Open In Colab\"/></a>"
      ]
    },
    {
      "metadata": {
        "id": "PzYltbEqVNz9",
        "colab_type": "code",
        "outputId": "beebfc50-4a3b-4bfd-f95d-b89a9497c9e6",
        "colab": {
          "base_uri": "https://localhost:8080/",
          "height": 55
        }
      },
      "cell_type": "code",
      "source": [
        "from google.colab import drive\n",
        "drive.mount('/content/gdrive')"
      ],
      "execution_count": 0,
      "outputs": [
        {
          "output_type": "stream",
          "text": [
            "Drive already mounted at /content/gdrive; to attempt to forcibly remount, call drive.mount(\"/content/gdrive\", force_remount=True).\n"
          ],
          "name": "stdout"
        }
      ]
    },
    {
      "metadata": {
        "id": "oDVmcRGDVrin",
        "colab_type": "code",
        "colab": {}
      },
      "cell_type": "code",
      "source": [
        "import pandas as pd\n",
        "trainDf=pd.read_csv(\"/content/gdrive/My Drive/colabData/MlProject/train.csv\")"
      ],
      "execution_count": 0,
      "outputs": []
    },
    {
      "metadata": {
        "id": "86j-aAP4V1Mc",
        "colab_type": "code",
        "outputId": "c589fb2b-564a-4fc9-992e-81750aec2580",
        "colab": {
          "base_uri": "https://localhost:8080/",
          "height": 293
        }
      },
      "cell_type": "code",
      "source": [
        "!wget http://nlp.stanford.edu/data/glove.840B.300d.zip"
      ],
      "execution_count": 0,
      "outputs": [
        {
          "output_type": "stream",
          "text": [
            "--2019-02-03 12:53:13--  http://nlp.stanford.edu/data/glove.840B.300d.zip\n",
            "Resolving nlp.stanford.edu (nlp.stanford.edu)... 171.64.67.140\n",
            "Connecting to nlp.stanford.edu (nlp.stanford.edu)|171.64.67.140|:80... connected.\n",
            "HTTP request sent, awaiting response... 302 Found\n",
            "Location: https://nlp.stanford.edu/data/glove.840B.300d.zip [following]\n",
            "--2019-02-03 12:53:13--  https://nlp.stanford.edu/data/glove.840B.300d.zip\n",
            "Connecting to nlp.stanford.edu (nlp.stanford.edu)|171.64.67.140|:443... connected.\n",
            "HTTP request sent, awaiting response... 200 OK\n",
            "Length: 2176768927 (2.0G) [application/zip]\n",
            "Saving to: ‘glove.840B.300d.zip’\n",
            "\n",
            "glove.840B.300d.zip 100%[===================>]   2.03G  9.86MB/s    in 78s     \n",
            "\n",
            "2019-02-03 12:54:31 (26.6 MB/s) - ‘glove.840B.300d.zip’ saved [2176768927/2176768927]\n",
            "\n"
          ],
          "name": "stdout"
        }
      ]
    },
    {
      "metadata": {
        "id": "w5BFTnqEZG9E",
        "colab_type": "code",
        "colab": {}
      },
      "cell_type": "code",
      "source": [
        "import zipfile\n",
        "zipRef=zipfile.ZipFile('glove.840B.300d.zip','r')\n",
        "zipRef.extractall()\n",
        "zipRef.close()"
      ],
      "execution_count": 0,
      "outputs": []
    },
    {
      "metadata": {
        "id": "680TH2qiZIIp",
        "colab_type": "code",
        "colab": {}
      },
      "cell_type": "code",
      "source": [
        "import numpy as np \n",
        "from tqdm import tqdm\n",
        "import math\n",
        "from sklearn.model_selection import train_test_split"
      ],
      "execution_count": 0,
      "outputs": []
    },
    {
      "metadata": {
        "id": "YcFEJ_BCZeEj",
        "colab_type": "code",
        "outputId": "7295b00b-881a-4844-a191-8886a9195425",
        "colab": {
          "base_uri": "https://localhost:8080/",
          "height": 54
        }
      },
      "cell_type": "code",
      "source": [
        "def readEmbeddings(embeddingsFile):\n",
        "    tempDict={}\n",
        "    f=open(embeddingsFile)\n",
        "    for line in tqdm(f):\n",
        "        values=line.split(\" \")\n",
        "        word=values[0]\n",
        "        vect=np.asarray(values[1:],dtype='float32')\n",
        "        tempDict[word]=vect\n",
        "    f.close()\n",
        "    return tempDict\n",
        "embeddingsDict=readEmbeddings('glove.840B.300d.txt')\n",
        "\n",
        "vectDim=300\n",
        "numOfVect=30\n",
        "len(embeddingsDict['the'])"
      ],
      "execution_count": 0,
      "outputs": [
        {
          "output_type": "stream",
          "text": [
            "2196017it [02:57, 12358.68it/s]\n"
          ],
          "name": "stderr"
        },
        {
          "output_type": "execute_result",
          "data": {
            "text/plain": [
              "300"
            ]
          },
          "metadata": {
            "tags": []
          },
          "execution_count": 3
        }
      ]
    },
    {
      "metadata": {
        "id": "AHM4zMxIZkca",
        "colab_type": "code",
        "outputId": "747b4de1-7ef7-4f63-cbc5-926e874740ba",
        "colab": {
          "base_uri": "https://localhost:8080/",
          "height": 35
        }
      },
      "cell_type": "code",
      "source": [
        "def textToArr(txt):\n",
        "    zeroVect=np.zeros(vectDim)\n",
        "    txt=txt[:-1].split()[:numOfVect]\n",
        "    embeds=[embeddingsDict.get(x,zeroVect) for x in txt]\n",
        "    embeds+=[zeroVect]*(numOfVect-len(embeds)) \n",
        "    return np.array(embeds)\n",
        "\n",
        "textToArr(\"what is quora?\").shape"
      ],
      "execution_count": 0,
      "outputs": [
        {
          "output_type": "execute_result",
          "data": {
            "text/plain": [
              "(30, 300)"
            ]
          },
          "metadata": {
            "tags": []
          },
          "execution_count": 4
        }
      ]
    },
    {
      "metadata": {
        "id": "3uQaKMRZCgZC",
        "colab_type": "code",
        "outputId": "e63e52cf-9170-4f02-cb5c-e315e879aa5d",
        "colab": {
          "base_uri": "https://localhost:8080/",
          "height": 199
        }
      },
      "cell_type": "code",
      "source": [
        "trainDf, valDf = train_test_split(trainDf, test_size=0.4)\n",
        "valDf, testDf = train_test_split(valDf, test_size=0.5)\n",
        "print(trainDf.shape)\n",
        "print(testDf.shape)\n",
        "print(valDf.shape)\n",
        "testDf.head(3)"
      ],
      "execution_count": 0,
      "outputs": [
        {
          "output_type": "stream",
          "text": [
            "(783673, 3)\n",
            "(261225, 3)\n",
            "(261224, 3)\n"
          ],
          "name": "stdout"
        },
        {
          "output_type": "execute_result",
          "data": {
            "text/html": [
              "<div>\n",
              "<style scoped>\n",
              "    .dataframe tbody tr th:only-of-type {\n",
              "        vertical-align: middle;\n",
              "    }\n",
              "\n",
              "    .dataframe tbody tr th {\n",
              "        vertical-align: top;\n",
              "    }\n",
              "\n",
              "    .dataframe thead th {\n",
              "        text-align: right;\n",
              "    }\n",
              "</style>\n",
              "<table border=\"1\" class=\"dataframe\">\n",
              "  <thead>\n",
              "    <tr style=\"text-align: right;\">\n",
              "      <th></th>\n",
              "      <th>qid</th>\n",
              "      <th>question_text</th>\n",
              "      <th>target</th>\n",
              "    </tr>\n",
              "  </thead>\n",
              "  <tbody>\n",
              "    <tr>\n",
              "      <th>1087474</th>\n",
              "      <td>d5192caf5c097bea6050</td>\n",
              "      <td>Where are the best websites for free advertising?</td>\n",
              "      <td>0</td>\n",
              "    </tr>\n",
              "    <tr>\n",
              "      <th>404075</th>\n",
              "      <td>4f2ed12f534457180a63</td>\n",
              "      <td>What challenges did V.S. Naipaul face when bec...</td>\n",
              "      <td>0</td>\n",
              "    </tr>\n",
              "    <tr>\n",
              "      <th>230531</th>\n",
              "      <td>2d157916e200e201b407</td>\n",
              "      <td>How does one travel on a US fake passport? Do ...</td>\n",
              "      <td>0</td>\n",
              "    </tr>\n",
              "  </tbody>\n",
              "</table>\n",
              "</div>"
            ],
            "text/plain": [
              "                          qid  \\\n",
              "1087474  d5192caf5c097bea6050   \n",
              "404075   4f2ed12f534457180a63   \n",
              "230531   2d157916e200e201b407   \n",
              "\n",
              "                                             question_text  target  \n",
              "1087474  Where are the best websites for free advertising?       0  \n",
              "404075   What challenges did V.S. Naipaul face when bec...       0  \n",
              "230531   How does one travel on a US fake passport? Do ...       0  "
            ]
          },
          "metadata": {
            "tags": []
          },
          "execution_count": 5
        }
      ]
    },
    {
      "metadata": {
        "id": "ZWrMe9d2ZfR3",
        "colab_type": "code",
        "outputId": "22525af5-92eb-4abb-e08f-8154c6be550f",
        "colab": {
          "base_uri": "https://localhost:8080/",
          "height": 35
        }
      },
      "cell_type": "code",
      "source": [
        "valVects = np.array([textToArr(x) for x in tqdm(valDf[\"question_text\"])])\n",
        "valY = np.array(valDf[\"target\"])\n",
        "\n",
        "valVects[0].shape"
      ],
      "execution_count": 0,
      "outputs": [
        {
          "output_type": "stream",
          "text": [
            " 44%|████▍     | 115805/261224 [01:05<62:30:50,  1.55s/it]"
          ],
          "name": "stderr"
        }
      ]
    },
    {
      "metadata": {
        "id": "mWu7lTNbDil3",
        "colab_type": "code",
        "outputId": "e65aed78-ca8b-4e16-82c0-9f86d55e4ae8",
        "colab": {
          "base_uri": "https://localhost:8080/",
          "height": 35
        }
      },
      "cell_type": "code",
      "source": [
        "testVects = np.array([textToArr(x) for x in tqdm(testDf[\"question_text\"])])\n",
        "testY = np.array(testDf[\"target\"])"
      ],
      "execution_count": 0,
      "outputs": [
        {
          "output_type": "stream",
          "text": [
            "100%|██████████| 104490/104490 [00:07<00:00, 13250.66it/s]\n"
          ],
          "name": "stderr"
        }
      ]
    },
    {
      "metadata": {
        "id": "9c7WDsM6aJia",
        "colab_type": "code",
        "colab": {}
      },
      "cell_type": "code",
      "source": [
        "batchSize = 128\n",
        "\n",
        "def batchGenerate(train_df):\n",
        "    numBatches = math.ceil(len(train_df) / batchSize)\n",
        "    while True: \n",
        "        train_df = train_df.sample(frac=1.)   \n",
        "        for i in range(numBatches):\n",
        "            texts = train_df.iloc[i*batchSize:(i+1)*batchSize, 1]\n",
        "            textArr = np.array([textToArr(text) for text in texts])\n",
        "            yield textArr, np.array(train_df[\"target\"][i*batchSize:(i+1)*batchSize])"
      ],
      "execution_count": 0,
      "outputs": []
    },
    {
      "metadata": {
        "id": "5bB1l5BPaKUn",
        "colab_type": "code",
        "outputId": "ba2cb4a5-bb7f-4624-bcce-1a41ebf114cf",
        "colab": {
          "base_uri": "https://localhost:8080/",
          "height": 35
        }
      },
      "cell_type": "code",
      "source": [
        "from keras.models import Sequential\n",
        "from keras.layers import CuDNNLSTM, Dense, Bidirectional, Dropout"
      ],
      "execution_count": 0,
      "outputs": [
        {
          "output_type": "stream",
          "text": [
            "Using TensorFlow backend.\n"
          ],
          "name": "stderr"
        }
      ]
    },
    {
      "metadata": {
        "id": "UkScldtqZfxB",
        "colab_type": "code",
        "colab": {}
      },
      "cell_type": "code",
      "source": [
        "from keras import backend as K\n",
        "\n",
        "def f1(y_true, y_pred):\n",
        "    def recall(y_true, y_pred): \n",
        "        true_positives = K.sum(K.round(K.clip(y_true * y_pred, 0, 1)))\n",
        "        possible_positives = K.sum(K.round(K.clip(y_true, 0, 1)))\n",
        "        recall = true_positives / (possible_positives + K.epsilon())\n",
        "        return recall\n",
        "\n",
        "    def precision(y_true, y_pred): \n",
        "        true_positives = K.sum(K.round(K.clip(y_true * y_pred, 0, 1)))\n",
        "        predicted_positives = K.sum(K.round(K.clip(y_pred, 0, 1)))\n",
        "        precision = true_positives / (predicted_positives + K.epsilon())\n",
        "        return precision\n",
        "    precision = precision(y_true, y_pred)\n",
        "    recall = recall(y_true, y_pred)\n",
        "    return 2*((precision*recall)/(precision+recall+K.epsilon()))"
      ],
      "execution_count": 0,
      "outputs": []
    },
    {
      "metadata": {
        "id": "XanvilaeaMwB",
        "colab_type": "code",
        "colab": {}
      },
      "cell_type": "code",
      "source": [
        "model = Sequential()\n",
        "model.add(Bidirectional(CuDNNLSTM(64, return_sequences=True), input_shape=(30, 300)))\n",
        "#model.add(Dropout(0.2))\n",
        "#model.add(Bidirectional(CuDNNLSTM(64)))\n",
        "#model.add(Dropout(0.2))\n",
        "model.add(Dense(1, activation=\"sigmoid\"))\n",
        "\n",
        "model.compile(loss='binary_crossentropy', optimizer='adam', metrics=['accuracy',f1])"
      ],
      "execution_count": 0,
      "outputs": []
    },
    {
      "metadata": {
        "id": "rSo5Ll1LaRBU",
        "colab_type": "code",
        "outputId": "2e21e2a4-1638-4d60-c025-fc00f0331e80",
        "colab": {
          "base_uri": "https://localhost:8080/",
          "height": 194
        }
      },
      "cell_type": "code",
      "source": [
        "bg = batchGenerate(trainDf)\n",
        "model.fit_generator(bg, epochs=20, steps_per_epoch=1000, validation_data=(valVects, valY), verbose=True) "
      ],
      "execution_count": 0,
      "outputs": [
        {
          "output_type": "error",
          "ename": "NameError",
          "evalue": "ignored",
          "traceback": [
            "\u001b[0;31m---------------------------------------------------------------------------\u001b[0m",
            "\u001b[0;31mNameError\u001b[0m                                 Traceback (most recent call last)",
            "\u001b[0;32m<ipython-input-6-b696bf875f53>\u001b[0m in \u001b[0;36m<module>\u001b[0;34m()\u001b[0m\n\u001b[0;32m----> 1\u001b[0;31m \u001b[0mbg\u001b[0m \u001b[0;34m=\u001b[0m \u001b[0mbatchGenerate\u001b[0m\u001b[0;34m(\u001b[0m\u001b[0mtrainDf\u001b[0m\u001b[0;34m)\u001b[0m\u001b[0;34m\u001b[0m\u001b[0;34m\u001b[0m\u001b[0m\n\u001b[0m\u001b[1;32m      2\u001b[0m \u001b[0mmodel\u001b[0m\u001b[0;34m.\u001b[0m\u001b[0mfit_generator\u001b[0m\u001b[0;34m(\u001b[0m\u001b[0mbg\u001b[0m\u001b[0;34m,\u001b[0m \u001b[0mepochs\u001b[0m\u001b[0;34m=\u001b[0m\u001b[0;36m20\u001b[0m\u001b[0;34m,\u001b[0m \u001b[0msteps_per_epoch\u001b[0m\u001b[0;34m=\u001b[0m\u001b[0;36m1000\u001b[0m\u001b[0;34m,\u001b[0m \u001b[0mvalidation_data\u001b[0m\u001b[0;34m=\u001b[0m\u001b[0;34m(\u001b[0m\u001b[0mvalVects\u001b[0m\u001b[0;34m,\u001b[0m \u001b[0mvalY\u001b[0m\u001b[0;34m)\u001b[0m\u001b[0;34m,\u001b[0m \u001b[0mverbose\u001b[0m\u001b[0;34m=\u001b[0m\u001b[0;32mTrue\u001b[0m\u001b[0;34m)\u001b[0m\u001b[0;34m\u001b[0m\u001b[0;34m\u001b[0m\u001b[0m\n",
            "\u001b[0;31mNameError\u001b[0m: name 'trainDf' is not defined"
          ]
        }
      ]
    },
    {
      "metadata": {
        "id": "EawCJCHma2s_",
        "colab_type": "code",
        "outputId": "ccdfceab-c703-4d6d-a103-3269e6b59609",
        "colab": {
          "base_uri": "https://localhost:8080/",
          "height": 35
        }
      },
      "cell_type": "code",
      "source": [
        "score = model.evaluate(testVects, testY, batch_size=1024, verbose=1)"
      ],
      "execution_count": 0,
      "outputs": [
        {
          "output_type": "stream",
          "text": [
            "22570/22570 [==============================] - 2s 87us/step\n"
          ],
          "name": "stdout"
        }
      ]
    },
    {
      "metadata": {
        "id": "5lqkVq61KI6Q",
        "colab_type": "code",
        "outputId": "97b97330-11fd-448d-b955-5f1169ca454e",
        "colab": {
          "base_uri": "https://localhost:8080/",
          "height": 72
        }
      },
      "cell_type": "code",
      "source": [
        "print(model.metrics_names[0],\":\",score[0])\n",
        "print(model.metrics_names[1],\":\",score[1])\n",
        "print(model.metrics_names[2],\":\",score[2])"
      ],
      "execution_count": 0,
      "outputs": [
        {
          "output_type": "stream",
          "text": [
            "loss : 0.34119263452378307\n",
            "acc : 0.949490474080638\n",
            "f1 : 0.5371880054262607\n"
          ],
          "name": "stdout"
        }
      ]
    }
  ]
}